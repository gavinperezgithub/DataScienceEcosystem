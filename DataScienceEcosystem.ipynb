{
 "cells": [
  {
   "cell_type": "markdown",
   "id": "c855e49b-a2fa-473e-886e-c5620c8a0a6b",
   "metadata": {},
   "source": [
    "# Data Science Ecosystem"
   ]
  },
  {
   "cell_type": "markdown",
   "id": "3618be8f-85e3-4277-a72c-4588024481ce",
   "metadata": {},
   "source": [
    "In this notebook, Data Science Tools and Ecosystem are summarized."
   ]
  },
  {
   "cell_type": "markdown",
   "id": "bd6148c6-237b-4afc-9ee3-cb0fcb600ee0",
   "metadata": {},
   "source": [
    "Some of the popular languages that Data Scientists use are:\n",
    "   - Python,\n",
    "   - C++,\n",
    "   - Java"
   ]
  },
  {
   "cell_type": "markdown",
   "id": "bbc1918d-ad3b-4396-84e2-fc5914226b92",
   "metadata": {},
   "source": [
    "**Objectives:**\r\n",
    "\r\n",
    "- List popular languages for Data Science.\r\n",
    "- Discuss common libraries used in Data Science.\r\n",
    "- Introduce basic data manipulation techniques.\r\n",
    "- Provide examples of data visualization.\r\n",
    "- Explore machine learning concepts."
   ]
  },
  {
   "cell_type": "markdown",
   "id": "408d4e4c-8b01-4b00-8900-fdced279f1b9",
   "metadata": {},
   "source": [
    "Some of the commonly used libraries used by Data Scientists include:\n",
    "- Numpy\n",
    "- Pandas\n",
    "- Matplotlib\n",
    "- Scikit-learn"
   ]
  },
  {
   "cell_type": "markdown",
   "id": "7726e6c1-4ac9-41c4-bbe8-8435ff21f47f",
   "metadata": {},
   "source": [
    "| Data Science Tools |\r\n",
    "|--------------------|\r\n",
    "| Jupyter Notebook   |\r\n",
    "| RStudio            |\r\n",
    "| VS Code            |"
   ]
  },
  {
   "cell_type": "markdown",
   "id": "5a076ede-2c26-4777-9e0a-50fdecbf706a",
   "metadata": {},
   "source": [
    "### Below are a few examples of evaluating arithmetic expressions in Python."
   ]
  },
  {
   "cell_type": "code",
   "execution_count": 5,
   "id": "18087ebd-bfe1-4f64-9e96-9bc69c94993a",
   "metadata": {},
   "outputs": [
    {
     "data": {
      "text/plain": [
       "17"
      ]
     },
     "execution_count": 5,
     "metadata": {},
     "output_type": "execute_result"
    }
   ],
   "source": [
    "# This is a simple arithmetic expression to multiply then add integers.\n",
    "result = (3 * 4) + 5\n",
    "result"
   ]
  },
  {
   "cell_type": "code",
   "execution_count": 7,
   "id": "025d2311-cf2d-4b26-83c2-54c3ac84872e",
   "metadata": {},
   "outputs": [
    {
     "data": {
      "text/plain": [
       "3.3333333333333335"
      ]
     },
     "execution_count": 7,
     "metadata": {},
     "output_type": "execute_result"
    }
   ],
   "source": [
    "# This will convert 200 minutes to hours by diving by 60\n",
    "minutes= 200;\n",
    "hours= minutes/60;\n",
    "hours"
   ]
  },
  {
   "cell_type": "markdown",
   "id": "28c4ee66-d158-4e54-be36-416e3a0fa617",
   "metadata": {},
   "source": [
    "## Author\n",
    "Guillermo García"
   ]
  },
  {
   "cell_type": "code",
   "execution_count": null,
   "id": "fff10891-6e98-419a-91d3-3263b77541bb",
   "metadata": {},
   "outputs": [],
   "source": []
  }
 ],
 "metadata": {
  "kernelspec": {
   "display_name": "Python 3 (ipykernel)",
   "language": "python",
   "name": "python3"
  },
  "language_info": {
   "codemirror_mode": {
    "name": "ipython",
    "version": 3
   },
   "file_extension": ".py",
   "mimetype": "text/x-python",
   "name": "python",
   "nbconvert_exporter": "python",
   "pygments_lexer": "ipython3",
   "version": "3.11.7"
  }
 },
 "nbformat": 4,
 "nbformat_minor": 5
}
